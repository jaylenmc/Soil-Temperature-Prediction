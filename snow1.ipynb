{
  "cells": [
    {
      "cell_type": "code",
      "execution_count": 1,
      "metadata": {
        "colab": {
          "base_uri": "https://localhost:8080/",
          "height": 800
        },
        "id": "gmQh7v5CVieS",
        "outputId": "f527838a-bf29-41cd-9476-960fc5f9bf78"
      },
      "outputs": [
        {
          "output_type": "stream",
          "name": "stdout",
          "text": [
            "<class 'pandas.core.frame.DataFrame'>\n",
            "RangeIndex: 3077 entries, 0 to 3076\n",
            "Data columns (total 12 columns):\n",
            " #   Column             Non-Null Count  Dtype  \n",
            "---  ------             --------------  -----  \n",
            " 0   Time(CST)          3077 non-null   object \n",
            " 1   ST_10              3077 non-null   float64\n",
            " 2   ST_50              3077 non-null   float64\n",
            " 3   ST_100             3077 non-null   float64\n",
            " 4   AvgAirTemp_C       3077 non-null   float64\n",
            " 5   AvgRelHum_%        3077 non-null   float64\n",
            " 6   AvgWindSpeed_m/s   3077 non-null   float64\n",
            " 7   AvgWindDir_Deg     3077 non-null   float64\n",
            " 8   TotalSolRad_MJ/m2  3077 non-null   float64\n",
            " 9   Rainfall_mm        3077 non-null   float64\n",
            " 10  SnowDepth_mm       3077 non-null   int64  \n",
            " 11  SoilMoisture       3077 non-null   float64\n",
            "dtypes: float64(10), int64(1), object(1)\n",
            "memory usage: 288.6+ KB\n"
          ]
        },
        {
          "output_type": "execute_result",
          "data": {
            "text/plain": [
              "Time(CST)            0\n",
              "ST_10                0\n",
              "ST_50                0\n",
              "ST_100               0\n",
              "AvgAirTemp_C         0\n",
              "AvgRelHum_%          0\n",
              "AvgWindSpeed_m/s     0\n",
              "AvgWindDir_Deg       0\n",
              "TotalSolRad_MJ/m2    0\n",
              "Rainfall_mm          0\n",
              "SnowDepth_mm         0\n",
              "SoilMoisture         0\n",
              "dtype: int64"
            ],
            "text/html": [
              "<div>\n",
              "<style scoped>\n",
              "    .dataframe tbody tr th:only-of-type {\n",
              "        vertical-align: middle;\n",
              "    }\n",
              "\n",
              "    .dataframe tbody tr th {\n",
              "        vertical-align: top;\n",
              "    }\n",
              "\n",
              "    .dataframe thead th {\n",
              "        text-align: right;\n",
              "    }\n",
              "</style>\n",
              "<table border=\"1\" class=\"dataframe\">\n",
              "  <thead>\n",
              "    <tr style=\"text-align: right;\">\n",
              "      <th></th>\n",
              "      <th>0</th>\n",
              "    </tr>\n",
              "  </thead>\n",
              "  <tbody>\n",
              "    <tr>\n",
              "      <th>Time(CST)</th>\n",
              "      <td>0</td>\n",
              "    </tr>\n",
              "    <tr>\n",
              "      <th>ST_10</th>\n",
              "      <td>0</td>\n",
              "    </tr>\n",
              "    <tr>\n",
              "      <th>ST_50</th>\n",
              "      <td>0</td>\n",
              "    </tr>\n",
              "    <tr>\n",
              "      <th>ST_100</th>\n",
              "      <td>0</td>\n",
              "    </tr>\n",
              "    <tr>\n",
              "      <th>AvgAirTemp_C</th>\n",
              "      <td>0</td>\n",
              "    </tr>\n",
              "    <tr>\n",
              "      <th>AvgRelHum_%</th>\n",
              "      <td>0</td>\n",
              "    </tr>\n",
              "    <tr>\n",
              "      <th>AvgWindSpeed_m/s</th>\n",
              "      <td>0</td>\n",
              "    </tr>\n",
              "    <tr>\n",
              "      <th>AvgWindDir_Deg</th>\n",
              "      <td>0</td>\n",
              "    </tr>\n",
              "    <tr>\n",
              "      <th>TotalSolRad_MJ/m2</th>\n",
              "      <td>0</td>\n",
              "    </tr>\n",
              "    <tr>\n",
              "      <th>Rainfall_mm</th>\n",
              "      <td>0</td>\n",
              "    </tr>\n",
              "    <tr>\n",
              "      <th>SnowDepth_mm</th>\n",
              "      <td>0</td>\n",
              "    </tr>\n",
              "    <tr>\n",
              "      <th>SoilMoisture</th>\n",
              "      <td>0</td>\n",
              "    </tr>\n",
              "  </tbody>\n",
              "</table>\n",
              "</div><br><label><b>dtype:</b> int64</label>"
            ]
          },
          "metadata": {},
          "execution_count": 1
        }
      ],
      "source": [
        "import pandas as pd\n",
        "snow_csv = pd.read_csv('/content/Grand Forks_daily updated (1).csv')\n",
        "snow_csv.info()\n",
        "snow_csv.isnull().sum()"
      ]
    },
    {
      "cell_type": "markdown",
      "metadata": {
        "id": "odIUFqZf69EO"
      },
      "source": []
    },
    {
      "cell_type": "code",
      "execution_count": 2,
      "metadata": {
        "colab": {
          "base_uri": "https://localhost:8080/"
        },
        "id": "V9uW6U4v4NKI",
        "outputId": "eec68816-45b0-438c-9e42-df050fd5fb78"
      },
      "outputs": [
        {
          "output_type": "stream",
          "name": "stdout",
          "text": [
            "<class 'pandas.core.frame.DataFrame'>\n",
            "Index: 1609 entries, 0 to 3072\n",
            "Data columns (total 12 columns):\n",
            " #   Column             Non-Null Count  Dtype         \n",
            "---  ------             --------------  -----         \n",
            " 0   Time(CST)          1609 non-null   datetime64[ns]\n",
            " 1   ST_10              1609 non-null   float64       \n",
            " 2   ST_50              1609 non-null   float64       \n",
            " 3   ST_100             1609 non-null   float64       \n",
            " 4   AvgAirTemp_C       1609 non-null   float64       \n",
            " 5   AvgRelHum_%        1609 non-null   float64       \n",
            " 6   AvgWindSpeed_m/s   1609 non-null   float64       \n",
            " 7   AvgWindDir_Deg     1609 non-null   float64       \n",
            " 8   TotalSolRad_MJ/m2  1609 non-null   float64       \n",
            " 9   Rainfall_mm        1609 non-null   float64       \n",
            " 10  SnowDepth_mm       1609 non-null   int64         \n",
            " 11  SoilMoisture       1609 non-null   float64       \n",
            "dtypes: datetime64[ns](1), float64(10), int64(1)\n",
            "memory usage: 163.4 KB\n"
          ]
        }
      ],
      "source": [
        "snow_csv['Time(CST)'] = pd.to_datetime(snow_csv['Time(CST)'], format='%m/%d/%Y')\n",
        "snow_filtered = snow_csv[snow_csv['Time(CST)'].dt.month.isin([10,11,12, 1, 2, 3])]\n",
        "snow_filtered.info()"
      ]
    },
    {
      "cell_type": "code",
      "execution_count": 3,
      "metadata": {
        "colab": {
          "base_uri": "https://localhost:8080/",
          "height": 460
        },
        "id": "nFgTpE21pB7i",
        "outputId": "0eecaeb0-4d3e-4eeb-8e76-60db56fc3f43"
      },
      "outputs": [
        {
          "output_type": "execute_result",
          "data": {
            "text/plain": [
              "Time(CST)            0\n",
              "ST_10                0\n",
              "ST_50                0\n",
              "ST_100               0\n",
              "AvgAirTemp_C         0\n",
              "AvgRelHum_%          0\n",
              "AvgWindSpeed_m/s     0\n",
              "AvgWindDir_Deg       0\n",
              "TotalSolRad_MJ/m2    0\n",
              "Rainfall_mm          0\n",
              "SnowDepth_mm         0\n",
              "SoilMoisture         0\n",
              "dtype: int64"
            ],
            "text/html": [
              "<div>\n",
              "<style scoped>\n",
              "    .dataframe tbody tr th:only-of-type {\n",
              "        vertical-align: middle;\n",
              "    }\n",
              "\n",
              "    .dataframe tbody tr th {\n",
              "        vertical-align: top;\n",
              "    }\n",
              "\n",
              "    .dataframe thead th {\n",
              "        text-align: right;\n",
              "    }\n",
              "</style>\n",
              "<table border=\"1\" class=\"dataframe\">\n",
              "  <thead>\n",
              "    <tr style=\"text-align: right;\">\n",
              "      <th></th>\n",
              "      <th>0</th>\n",
              "    </tr>\n",
              "  </thead>\n",
              "  <tbody>\n",
              "    <tr>\n",
              "      <th>Time(CST)</th>\n",
              "      <td>0</td>\n",
              "    </tr>\n",
              "    <tr>\n",
              "      <th>ST_10</th>\n",
              "      <td>0</td>\n",
              "    </tr>\n",
              "    <tr>\n",
              "      <th>ST_50</th>\n",
              "      <td>0</td>\n",
              "    </tr>\n",
              "    <tr>\n",
              "      <th>ST_100</th>\n",
              "      <td>0</td>\n",
              "    </tr>\n",
              "    <tr>\n",
              "      <th>AvgAirTemp_C</th>\n",
              "      <td>0</td>\n",
              "    </tr>\n",
              "    <tr>\n",
              "      <th>AvgRelHum_%</th>\n",
              "      <td>0</td>\n",
              "    </tr>\n",
              "    <tr>\n",
              "      <th>AvgWindSpeed_m/s</th>\n",
              "      <td>0</td>\n",
              "    </tr>\n",
              "    <tr>\n",
              "      <th>AvgWindDir_Deg</th>\n",
              "      <td>0</td>\n",
              "    </tr>\n",
              "    <tr>\n",
              "      <th>TotalSolRad_MJ/m2</th>\n",
              "      <td>0</td>\n",
              "    </tr>\n",
              "    <tr>\n",
              "      <th>Rainfall_mm</th>\n",
              "      <td>0</td>\n",
              "    </tr>\n",
              "    <tr>\n",
              "      <th>SnowDepth_mm</th>\n",
              "      <td>0</td>\n",
              "    </tr>\n",
              "    <tr>\n",
              "      <th>SoilMoisture</th>\n",
              "      <td>0</td>\n",
              "    </tr>\n",
              "  </tbody>\n",
              "</table>\n",
              "</div><br><label><b>dtype:</b> int64</label>"
            ]
          },
          "metadata": {},
          "execution_count": 3
        }
      ],
      "source": [
        "snow_filtered.isnull().sum()"
      ]
    },
    {
      "cell_type": "code",
      "execution_count": 4,
      "metadata": {
        "colab": {
          "base_uri": "https://localhost:8080/",
          "height": 460
        },
        "id": "02QTd2CxHG8G",
        "outputId": "f6c2ad60-83bd-4f51-8a07-03063eef0837"
      },
      "outputs": [
        {
          "output_type": "execute_result",
          "data": {
            "text/plain": [
              "Time(CST)            1609\n",
              "ST_10                1609\n",
              "ST_50                1609\n",
              "ST_100               1609\n",
              "AvgAirTemp_C         1609\n",
              "AvgRelHum_%          1609\n",
              "AvgWindSpeed_m/s     1609\n",
              "AvgWindDir_Deg       1609\n",
              "TotalSolRad_MJ/m2    1609\n",
              "Rainfall_mm          1609\n",
              "SnowDepth_mm         1609\n",
              "SoilMoisture         1609\n",
              "dtype: int64"
            ],
            "text/html": [
              "<div>\n",
              "<style scoped>\n",
              "    .dataframe tbody tr th:only-of-type {\n",
              "        vertical-align: middle;\n",
              "    }\n",
              "\n",
              "    .dataframe tbody tr th {\n",
              "        vertical-align: top;\n",
              "    }\n",
              "\n",
              "    .dataframe thead th {\n",
              "        text-align: right;\n",
              "    }\n",
              "</style>\n",
              "<table border=\"1\" class=\"dataframe\">\n",
              "  <thead>\n",
              "    <tr style=\"text-align: right;\">\n",
              "      <th></th>\n",
              "      <th>0</th>\n",
              "    </tr>\n",
              "  </thead>\n",
              "  <tbody>\n",
              "    <tr>\n",
              "      <th>Time(CST)</th>\n",
              "      <td>1609</td>\n",
              "    </tr>\n",
              "    <tr>\n",
              "      <th>ST_10</th>\n",
              "      <td>1609</td>\n",
              "    </tr>\n",
              "    <tr>\n",
              "      <th>ST_50</th>\n",
              "      <td>1609</td>\n",
              "    </tr>\n",
              "    <tr>\n",
              "      <th>ST_100</th>\n",
              "      <td>1609</td>\n",
              "    </tr>\n",
              "    <tr>\n",
              "      <th>AvgAirTemp_C</th>\n",
              "      <td>1609</td>\n",
              "    </tr>\n",
              "    <tr>\n",
              "      <th>AvgRelHum_%</th>\n",
              "      <td>1609</td>\n",
              "    </tr>\n",
              "    <tr>\n",
              "      <th>AvgWindSpeed_m/s</th>\n",
              "      <td>1609</td>\n",
              "    </tr>\n",
              "    <tr>\n",
              "      <th>AvgWindDir_Deg</th>\n",
              "      <td>1609</td>\n",
              "    </tr>\n",
              "    <tr>\n",
              "      <th>TotalSolRad_MJ/m2</th>\n",
              "      <td>1609</td>\n",
              "    </tr>\n",
              "    <tr>\n",
              "      <th>Rainfall_mm</th>\n",
              "      <td>1609</td>\n",
              "    </tr>\n",
              "    <tr>\n",
              "      <th>SnowDepth_mm</th>\n",
              "      <td>1609</td>\n",
              "    </tr>\n",
              "    <tr>\n",
              "      <th>SoilMoisture</th>\n",
              "      <td>1609</td>\n",
              "    </tr>\n",
              "  </tbody>\n",
              "</table>\n",
              "</div><br><label><b>dtype:</b> int64</label>"
            ]
          },
          "metadata": {},
          "execution_count": 4
        }
      ],
      "source": [
        "snow_filtered.count()"
      ]
    },
    {
      "cell_type": "code",
      "execution_count": 5,
      "metadata": {
        "id": "9GBcxelUHM0Z"
      },
      "outputs": [],
      "source": [
        "snow_filtered.isnull().count()\n",
        "snow_filtered=snow_filtered.fillna(0)"
      ]
    },
    {
      "cell_type": "code",
      "execution_count": 6,
      "metadata": {
        "colab": {
          "base_uri": "https://localhost:8080/"
        },
        "id": "Fnj1-qv9H3ac",
        "outputId": "bf75260e-bc52-46c2-8d66-10f453c57357"
      },
      "outputs": [
        {
          "output_type": "stream",
          "name": "stdout",
          "text": [
            "<class 'pandas.core.frame.DataFrame'>\n",
            "Index: 1609 entries, 0 to 3072\n",
            "Data columns (total 9 columns):\n",
            " #   Column             Non-Null Count  Dtype  \n",
            "---  ------             --------------  -----  \n",
            " 0   ST_10              1609 non-null   float64\n",
            " 1   AvgAirTemp_C       1609 non-null   float64\n",
            " 2   AvgRelHum_%        1609 non-null   float64\n",
            " 3   AvgWindSpeed_m/s   1609 non-null   float64\n",
            " 4   AvgWindDir_Deg     1609 non-null   float64\n",
            " 5   TotalSolRad_MJ/m2  1609 non-null   float64\n",
            " 6   Rainfall_mm        1609 non-null   float64\n",
            " 7   SnowDepth_mm       1609 non-null   int64  \n",
            " 8   SoilMoisture       1609 non-null   float64\n",
            "dtypes: float64(8), int64(1)\n",
            "memory usage: 125.7 KB\n"
          ]
        }
      ],
      "source": [
        "train=snow_filtered.drop(['ST_50', 'ST_100', 'Time(CST)'], axis=1)\n",
        "#Y=snow_filtered['ST_10']\n",
        "train.info()\n"
      ]
    },
    {
      "cell_type": "code",
      "execution_count": 7,
      "metadata": {
        "colab": {
          "base_uri": "https://localhost:8080/",
          "height": 822
        },
        "id": "GmdqJSbzqaKq",
        "outputId": "78027de6-17a0-4262-e70a-aae82754cc86"
      },
      "outputs": [
        {
          "output_type": "execute_result",
          "data": {
            "text/plain": [
              "<Axes: >"
            ]
          },
          "metadata": {},
          "execution_count": 7
        },
        {
          "output_type": "display_data",
          "data": {
            "text/plain": [
              "<Figure size 1000x800 with 2 Axes>"
            ],
            "image/png": "[encoded data removed]"
          },
          "metadata": {}
        }
      ],
      "source": [
        "import matplotlib.pyplot as plt\n",
        "import numpy as np\n",
        "\n",
        "f, ax = plt.subplots(figsize=(10, 8))\n",
        "corr = train.corr()\n",
        "import seaborn as sns\n",
        "sns.heatmap(corr, mask=np.zeros_like(corr, dtype=bool),\n",
        "            cmap=sns.diverging_palette(220, 10, as_cmap=True),\n",
        "            square=True, ax=ax)"
      ]
    },
    {
      "cell_type": "code",
      "execution_count": 8,
      "metadata": {
        "id": "6akNqHQgHRIs"
      },
      "outputs": [],
      "source": [
        "from sklearn.preprocessing import MinMaxScaler\n",
        "scaler = MinMaxScaler()\n",
        "Scalable=[ 'AvgAirTemp_C', 'AvgRelHum_%', 'AvgWindSpeed_m/s', 'AvgWindDir_Deg', 'TotalSolRad_MJ/m2', 'Rainfall_mm', 'SnowDepth_mm', 'SoilMoisture']\n",
        "\n",
        "train[Scalable] = scaler.fit_transform(train[Scalable])"
      ]
    },
    {
      "cell_type": "code",
      "execution_count": 9,
      "metadata": {
        "id": "8KvjpUkVodaS"
      },
      "outputs": [],
      "source": [
        "X=train.drop(['ST_10'], axis=1)\n",
        "Y=train['ST_10']"
      ]
    },
    {
      "cell_type": "code",
      "execution_count": 10,
      "metadata": {
        "id": "DcQ8c6qxIz1S"
      },
      "outputs": [],
      "source": [
        "\n",
        "from sklearn.model_selection import train_test_split\n",
        "\n",
        "X_train,X_test,Y_train,Y_test=train_test_split(X,Y,test_size=0.25,random_state=52)\n",
        "#X_train.info()"
      ]
    },
    {
      "cell_type": "code",
      "execution_count": 11,
      "metadata": {
        "colab": {
          "base_uri": "https://localhost:8080/"
        },
        "id": "pYC-W9cfzLOH",
        "outputId": "a91fa2ad-df10-40a7-eea7-6918758b3a2b"
      },
      "outputs": [
        {
          "output_type": "stream",
          "name": "stdout",
          "text": [
            "Requirement already satisfied: xanfis in /usr/local/lib/python3.12/dist-packages (1.1.0)\n",
            "Requirement already satisfied: numpy<=1.26.0,>=1.17.1 in /usr/local/lib/python3.12/dist-packages (from xanfis) (1.26.0)\n",
            "Requirement already satisfied: scipy>=1.7.1 in /usr/local/lib/python3.12/dist-packages (from xanfis) (1.16.1)\n",
            "Requirement already satisfied: scikit-learn>=1.2.1 in /usr/local/lib/python3.12/dist-packages (from xanfis) (1.6.1)\n",
            "Requirement already satisfied: pandas<2.2,>=1.3.5 in /usr/local/lib/python3.12/dist-packages (from xanfis) (2.1.4)\n",
            "Requirement already satisfied: mealpy>=3.0.2 in /usr/local/lib/python3.12/dist-packages (from xanfis) (3.0.3)\n",
            "Requirement already satisfied: permetrics>=2.0.0 in /usr/local/lib/python3.12/dist-packages (from xanfis) (2.0.0)\n",
            "Requirement already satisfied: torch>=2.0.0 in /usr/local/lib/python3.12/dist-packages (from xanfis) (2.8.0+cu126)\n",
            "Requirement already satisfied: matplotlib>=3.1.3 in /usr/local/lib/python3.12/dist-packages (from mealpy>=3.0.2->xanfis) (3.10.0)\n",
            "Requirement already satisfied: opfunu>=1.0.0 in /usr/local/lib/python3.12/dist-packages (from mealpy>=3.0.2->xanfis) (1.0.1)\n",
            "Requirement already satisfied: python-dateutil>=2.8.2 in /usr/local/lib/python3.12/dist-packages (from pandas<2.2,>=1.3.5->xanfis) (2.9.0.post0)\n",
            "Requirement already satisfied: pytz>=2020.1 in /usr/local/lib/python3.12/dist-packages (from pandas<2.2,>=1.3.5->xanfis) (2025.2)\n",
            "Requirement already satisfied: tzdata>=2022.1 in /usr/local/lib/python3.12/dist-packages (from pandas<2.2,>=1.3.5->xanfis) (2025.2)\n",
            "Requirement already satisfied: joblib>=1.2.0 in /usr/local/lib/python3.12/dist-packages (from scikit-learn>=1.2.1->xanfis) (1.5.1)\n",
            "Requirement already satisfied: threadpoolctl>=3.1.0 in /usr/local/lib/python3.12/dist-packages (from scikit-learn>=1.2.1->xanfis) (3.6.0)\n",
            "Requirement already satisfied: filelock in /usr/local/lib/python3.12/dist-packages (from torch>=2.0.0->xanfis) (3.19.1)\n",
            "Requirement already satisfied: typing-extensions>=4.10.0 in /usr/local/lib/python3.12/dist-packages (from torch>=2.0.0->xanfis) (4.14.1)\n",
            "Requirement already satisfied: setuptools in /usr/local/lib/python3.12/dist-packages (from torch>=2.0.0->xanfis) (75.2.0)\n",
            "Requirement already satisfied: sympy>=1.13.3 in /usr/local/lib/python3.12/dist-packages (from torch>=2.0.0->xanfis) (1.13.3)\n",
            "Requirement already satisfied: networkx in /usr/local/lib/python3.12/dist-packages (from torch>=2.0.0->xanfis) (3.5)\n",
            "Requirement already satisfied: jinja2 in /usr/local/lib/python3.12/dist-packages (from torch>=2.0.0->xanfis) (3.1.6)\n",
            "Requirement already satisfied: fsspec in /usr/local/lib/python3.12/dist-packages (from torch>=2.0.0->xanfis) (2025.3.0)\n",
            "Requirement already satisfied: nvidia-cuda-nvrtc-cu12==12.6.77 in /usr/local/lib/python3.12/dist-packages (from torch>=2.0.0->xanfis) (12.6.77)\n",
            "Requirement already satisfied: nvidia-cuda-runtime-cu12==12.6.77 in /usr/local/lib/python3.12/dist-packages (from torch>=2.0.0->xanfis) (12.6.77)\n",
            "Requirement already satisfied: nvidia-cuda-cupti-cu12==12.6.80 in /usr/local/lib/python3.12/dist-packages (from torch>=2.0.0->xanfis) (12.6.80)\n",
            "Requirement already satisfied: nvidia-cudnn-cu12==9.10.2.21 in /usr/local/lib/python3.12/dist-packages (from torch>=2.0.0->xanfis) (9.10.2.21)\n",
            "Requirement already satisfied: nvidia-cublas-cu12==12.6.4.1 in /usr/local/lib/python3.12/dist-packages (from torch>=2.0.0->xanfis) (12.6.4.1)\n",
            "Requirement already satisfied: nvidia-cufft-cu12==11.3.0.4 in /usr/local/lib/python3.12/dist-packages (from torch>=2.0.0->xanfis) (11.3.0.4)\n",
            "Requirement already satisfied: nvidia-curand-cu12==10.3.7.77 in /usr/local/lib/python3.12/dist-packages (from torch>=2.0.0->xanfis) (10.3.7.77)\n",
            "Requirement already satisfied: nvidia-cusolver-cu12==11.7.1.2 in /usr/local/lib/python3.12/dist-packages (from torch>=2.0.0->xanfis) (11.7.1.2)\n",
            "Requirement already satisfied: nvidia-cusparse-cu12==12.5.4.2 in /usr/local/lib/python3.12/dist-packages (from torch>=2.0.0->xanfis) (12.5.4.2)\n",
            "Requirement already satisfied: nvidia-cusparselt-cu12==0.7.1 in /usr/local/lib/python3.12/dist-packages (from torch>=2.0.0->xanfis) (0.7.1)\n",
            "Requirement already satisfied: nvidia-nccl-cu12==2.27.3 in /usr/local/lib/python3.12/dist-packages (from torch>=2.0.0->xanfis) (2.27.3)\n",
            "Requirement already satisfied: nvidia-nvtx-cu12==12.6.77 in /usr/local/lib/python3.12/dist-packages (from torch>=2.0.0->xanfis) (12.6.77)\n",
            "Requirement already satisfied: nvidia-nvjitlink-cu12==12.6.85 in /usr/local/lib/python3.12/dist-packages (from torch>=2.0.0->xanfis) (12.6.85)\n",
            "Requirement already satisfied: nvidia-cufile-cu12==1.11.1.6 in /usr/local/lib/python3.12/dist-packages (from torch>=2.0.0->xanfis) (1.11.1.6)\n",
            "Requirement already satisfied: triton==3.4.0 in /usr/local/lib/python3.12/dist-packages (from torch>=2.0.0->xanfis) (3.4.0)\n",
            "Requirement already satisfied: contourpy>=1.0.1 in /usr/local/lib/python3.12/dist-packages (from matplotlib>=3.1.3->mealpy>=3.0.2->xanfis) (1.3.3)\n",
            "Requirement already satisfied: cycler>=0.10 in /usr/local/lib/python3.12/dist-packages (from matplotlib>=3.1.3->mealpy>=3.0.2->xanfis) (0.12.1)\n",
            "Requirement already satisfied: fonttools>=4.22.0 in /usr/local/lib/python3.12/dist-packages (from matplotlib>=3.1.3->mealpy>=3.0.2->xanfis) (4.59.1)\n",
            "Requirement already satisfied: kiwisolver>=1.3.1 in /usr/local/lib/python3.12/dist-packages (from matplotlib>=3.1.3->mealpy>=3.0.2->xanfis) (1.4.9)\n",
            "Requirement already satisfied: packaging>=20.0 in /usr/local/lib/python3.12/dist-packages (from matplotlib>=3.1.3->mealpy>=3.0.2->xanfis) (25.0)\n",
            "Requirement already satisfied: pillow>=8 in /usr/local/lib/python3.12/dist-packages (from matplotlib>=3.1.3->mealpy>=3.0.2->xanfis) (11.3.0)\n",
            "Requirement already satisfied: pyparsing>=2.3.1 in /usr/local/lib/python3.12/dist-packages (from matplotlib>=3.1.3->mealpy>=3.0.2->xanfis) (3.2.3)\n",
            "Requirement already satisfied: requests>=2.27.0 in /usr/local/lib/python3.12/dist-packages (from opfunu>=1.0.0->mealpy>=3.0.2->xanfis) (2.32.4)\n",
            "Requirement already satisfied: six>=1.5 in /usr/local/lib/python3.12/dist-packages (from python-dateutil>=2.8.2->pandas<2.2,>=1.3.5->xanfis) (1.17.0)\n",
            "Requirement already satisfied: mpmath<1.4,>=1.1.0 in /usr/local/lib/python3.12/dist-packages (from sympy>=1.13.3->torch>=2.0.0->xanfis) (1.3.0)\n",
            "Requirement already satisfied: MarkupSafe>=2.0 in /usr/local/lib/python3.12/dist-packages (from jinja2->torch>=2.0.0->xanfis) (3.0.2)\n",
            "Requirement already satisfied: charset_normalizer<4,>=2 in /usr/local/lib/python3.12/dist-packages (from requests>=2.27.0->opfunu>=1.0.0->mealpy>=3.0.2->xanfis) (3.4.3)\n",
            "Requirement already satisfied: idna<4,>=2.5 in /usr/local/lib/python3.12/dist-packages (from requests>=2.27.0->opfunu>=1.0.0->mealpy>=3.0.2->xanfis) (3.10)\n",
            "Requirement already satisfied: urllib3<3,>=1.21.1 in /usr/local/lib/python3.12/dist-packages (from requests>=2.27.0->opfunu>=1.0.0->mealpy>=3.0.2->xanfis) (2.5.0)\n",
            "Requirement already satisfied: certifi>=2017.4.17 in /usr/local/lib/python3.12/dist-packages (from requests>=2.27.0->opfunu>=1.0.0->mealpy>=3.0.2->xanfis) (2025.8.3)\n"
          ]
        }
      ],
      "source": [
        "!pip install xanfis"
      ]
    },
    {
      "cell_type": "code",
      "execution_count": 12,
      "metadata": {
        "id": "OEatv09PcfSU"
      },
      "outputs": [],
      "source": [
        "import xanfis"
      ]
    },
    {
      "cell_type": "code",
      "execution_count": 13,
      "metadata": {
        "id": "CRKp7ZBAcm0S"
      },
      "outputs": [],
      "source": [
        "from xanfis import GdAnfisRegressor"
      ]
    },
    {
      "cell_type": "markdown",
      "metadata": {
        "id": "j2UBuK0xgxHp"
      },
      "source": [
        "Use Trapezoidial, Triangular, *Gaussian* for mf_class. Play around with optimizers, epochs, and batch size. Learn about what is Neuro Fuzzy Logic.\n",
        "[Kera Website](https://keras.io/api/optimizers/)"
      ]
    },
    {
      "cell_type": "code",
      "execution_count": 14,
      "metadata": {
        "id": "JZrDtnTRc2Tv",
        "colab": {
          "base_uri": "https://localhost:8080/",
          "height": 1000
        },
        "outputId": "b995a5c4-d752-479f-fb89-2d94cddc6589"
      },
      "outputs": [
        {
          "output_type": "stream",
          "name": "stdout",
          "text": [
            "Epoch: 1, Train Loss: 17.737198, Validation Loss: 12.092716\n",
            "Epoch: 2, Train Loss: 17.697602, Validation Loss: 12.086347\n",
            "Epoch: 3, Train Loss: 17.629060, Validation Loss: 12.073785\n",
            "Epoch: 4, Train Loss: 17.622743, Validation Loss: 12.047405\n",
            "Epoch: 5, Train Loss: 17.571357, Validation Loss: 11.984166\n",
            "Epoch: 6, Train Loss: 17.485428, Validation Loss: 11.845505\n",
            "Epoch: 7, Train Loss: 17.196431, Validation Loss: 11.582346\n",
            "Epoch: 8, Train Loss: 16.680815, Validation Loss: 10.999043\n",
            "Epoch: 9, Train Loss: 15.577179, Validation Loss: 9.936237\n",
            "Epoch: 10, Train Loss: 13.802802, Validation Loss: 8.350428\n",
            "Epoch: 11, Train Loss: 11.331571, Validation Loss: 6.602142\n",
            "Epoch: 12, Train Loss: 8.876054, Validation Loss: 5.357396\n",
            "Epoch: 13, Train Loss: 6.976705, Validation Loss: 4.841417\n",
            "Epoch: 14, Train Loss: 5.906099, Validation Loss: 4.452857\n",
            "Epoch: 15, Train Loss: 5.211748, Validation Loss: 4.282692\n",
            "Epoch: 16, Train Loss: 4.774184, Validation Loss: 4.213146\n",
            "Epoch: 17, Train Loss: 4.430911, Validation Loss: 4.006427\n",
            "Epoch: 18, Train Loss: 4.146527, Validation Loss: 3.901154\n",
            "Epoch: 19, Train Loss: 3.926734, Validation Loss: 3.884045\n",
            "Epoch: 20, Train Loss: 3.661501, Validation Loss: 3.765618\n",
            "Epoch: 21, Train Loss: 3.515054, Validation Loss: 3.694987\n",
            "Epoch: 22, Train Loss: 3.355702, Validation Loss: 3.580222\n",
            "Epoch: 23, Train Loss: 3.170704, Validation Loss: 3.379616\n",
            "Epoch: 24, Train Loss: 3.074847, Validation Loss: 3.247505\n",
            "Epoch: 25, Train Loss: 2.962493, Validation Loss: 3.186615\n",
            "Epoch: 26, Train Loss: 2.846948, Validation Loss: 3.087422\n",
            "Epoch: 27, Train Loss: 2.752714, Validation Loss: 3.305118\n",
            "Epoch: 28, Train Loss: 2.658598, Validation Loss: 3.044024\n",
            "Epoch: 29, Train Loss: 2.624911, Validation Loss: 3.153883\n",
            "Epoch: 30, Train Loss: 2.560652, Validation Loss: 2.998704\n",
            "Epoch: 31, Train Loss: 2.488406, Validation Loss: 3.113778\n",
            "Epoch: 32, Train Loss: 2.484567, Validation Loss: 2.922386\n",
            "Epoch: 33, Train Loss: 2.416880, Validation Loss: 2.810785\n",
            "Epoch: 34, Train Loss: 2.392161, Validation Loss: 2.830348\n",
            "Epoch: 35, Train Loss: 2.399256, Validation Loss: 2.878082\n",
            "Epoch: 36, Train Loss: 2.341052, Validation Loss: 2.796176\n",
            "Epoch: 37, Train Loss: 2.295126, Validation Loss: 3.228205\n",
            "Epoch: 38, Train Loss: 2.278370, Validation Loss: 2.728397\n",
            "Epoch: 39, Train Loss: 2.261974, Validation Loss: 2.806525\n",
            "Epoch: 40, Train Loss: 2.260219, Validation Loss: 2.745248\n",
            "Epoch: 41, Train Loss: 2.278782, Validation Loss: 2.776155\n",
            "Epoch: 42, Train Loss: 2.231398, Validation Loss: 2.818633\n",
            "Epoch: 43, Train Loss: 2.204846, Validation Loss: 2.707208\n",
            "Epoch: 44, Train Loss: 2.221855, Validation Loss: 2.736049\n",
            "Epoch: 45, Train Loss: 2.183237, Validation Loss: 2.762557\n",
            "Epoch: 46, Train Loss: 2.155882, Validation Loss: 2.704706\n",
            "Epoch: 47, Train Loss: 2.158150, Validation Loss: 2.689771\n",
            "Epoch: 48, Train Loss: 2.157109, Validation Loss: 2.702888\n",
            "Epoch: 49, Train Loss: 2.149831, Validation Loss: 2.610081\n",
            "Epoch: 50, Train Loss: 2.140855, Validation Loss: 2.691726\n",
            "Epoch: 51, Train Loss: 2.131330, Validation Loss: 2.743323\n",
            "Epoch: 52, Train Loss: 2.077545, Validation Loss: 2.692483\n",
            "Epoch: 53, Train Loss: 2.077558, Validation Loss: 2.993878\n",
            "Epoch: 54, Train Loss: 2.069901, Validation Loss: 2.757958\n",
            "Epoch: 55, Train Loss: 2.056264, Validation Loss: 2.649508\n",
            "Epoch: 56, Train Loss: 2.039954, Validation Loss: 2.605871\n",
            "Epoch: 57, Train Loss: 2.021341, Validation Loss: 2.805930\n",
            "Epoch: 58, Train Loss: 2.034584, Validation Loss: 2.637247\n",
            "Epoch: 59, Train Loss: 2.035651, Validation Loss: 2.625050\n",
            "Epoch: 60, Train Loss: 1.998747, Validation Loss: 2.819215\n",
            "Epoch: 61, Train Loss: 1.985415, Validation Loss: 2.741826\n",
            "Epoch: 62, Train Loss: 1.992949, Validation Loss: 2.619073\n",
            "Epoch: 63, Train Loss: 2.015074, Validation Loss: 2.785650\n",
            "Epoch: 64, Train Loss: 1.975172, Validation Loss: 2.605721\n",
            "Epoch: 65, Train Loss: 1.962698, Validation Loss: 2.785896\n",
            "Epoch: 66, Train Loss: 1.978968, Validation Loss: 2.628560\n",
            "Epoch: 67, Train Loss: 1.940413, Validation Loss: 2.644832\n",
            "Epoch: 68, Train Loss: 1.990074, Validation Loss: 2.583705\n",
            "Epoch: 69, Train Loss: 1.935296, Validation Loss: 2.663355\n",
            "Epoch: 70, Train Loss: 1.970057, Validation Loss: 2.514397\n",
            "Epoch: 71, Train Loss: 1.934638, Validation Loss: 2.727238\n",
            "Epoch: 72, Train Loss: 1.958458, Validation Loss: 2.612540\n",
            "Epoch: 73, Train Loss: 1.935367, Validation Loss: 2.737318\n",
            "Epoch: 74, Train Loss: 1.949475, Validation Loss: 2.656153\n",
            "Epoch: 75, Train Loss: 1.956581, Validation Loss: 2.556807\n",
            "Epoch: 76, Train Loss: 1.940403, Validation Loss: 2.614853\n",
            "Epoch: 77, Train Loss: 1.957435, Validation Loss: 2.596068\n",
            "Epoch: 78, Train Loss: 1.916477, Validation Loss: 2.622052\n",
            "Epoch: 79, Train Loss: 1.889154, Validation Loss: 2.798765\n",
            "Epoch: 80, Train Loss: 1.862814, Validation Loss: 2.734879\n",
            "Epoch: 81, Train Loss: 1.888370, Validation Loss: 2.571469\n",
            "Epoch: 82, Train Loss: 1.870433, Validation Loss: 2.571419\n",
            "Epoch: 83, Train Loss: 1.877653, Validation Loss: 2.466430\n",
            "Epoch: 84, Train Loss: 1.877634, Validation Loss: 2.589848\n",
            "Epoch: 85, Train Loss: 1.847263, Validation Loss: 2.534210\n",
            "Epoch: 86, Train Loss: 1.860415, Validation Loss: 2.591113\n",
            "Epoch: 87, Train Loss: 1.877235, Validation Loss: 2.921921\n",
            "Epoch: 88, Train Loss: 1.843277, Validation Loss: 2.457796\n",
            "Epoch: 89, Train Loss: 1.843224, Validation Loss: 2.501285\n",
            "Epoch: 90, Train Loss: 1.849281, Validation Loss: 2.522069\n",
            "Epoch: 91, Train Loss: 1.846005, Validation Loss: 2.601516\n",
            "Epoch: 92, Train Loss: 1.853802, Validation Loss: 2.595151\n",
            "Epoch: 93, Train Loss: 1.828181, Validation Loss: 2.715676\n",
            "Epoch: 94, Train Loss: 1.847740, Validation Loss: 2.708713\n",
            "Epoch: 95, Train Loss: 1.826613, Validation Loss: 2.483857\n",
            "Epoch: 96, Train Loss: 1.847626, Validation Loss: 2.558846\n",
            "Epoch: 97, Train Loss: 1.850188, Validation Loss: 2.531332\n",
            "Epoch: 98, Train Loss: 1.811454, Validation Loss: 2.571785\n",
            "Epoch: 99, Train Loss: 1.832335, Validation Loss: 2.541496\n",
            "Epoch: 100, Train Loss: 1.826922, Validation Loss: 2.720944\n"
          ]
        },
        {
          "output_type": "execute_result",
          "data": {
            "text/plain": [
              "GdAnfisRegressor(batch_size=8, device='cpu', early_stopping=False, epochs=100,\n",
              "                 mf_class='Trapezoidal', num_rules=20, optim='Adafactor',\n",
              "                 optim_params={'lr': 0.01}, reg_lambda=0.0,\n",
              "                 vanishing_strategy='blend')"
            ],
            "text/html": [
              "<style>#sk-container-id-1 {\n",
              "  /* Definition of color scheme common for light and dark mode */\n",
              "  --sklearn-color-text: #000;\n",
              "  --sklearn-color-text-muted: #666;\n",
              "  --sklearn-color-line: gray;\n",
              "  /* Definition of color scheme for unfitted estimators */\n",
              "  --sklearn-color-unfitted-level-0: #fff5e6;\n",
              "  --sklearn-color-unfitted-level-1: #f6e4d2;\n",
              "  --sklearn-color-unfitted-level-2: #ffe0b3;\n",
              "  --sklearn-color-unfitted-level-3: chocolate;\n",
              "  /* Definition of color scheme for fitted estimators */\n",
              "  --sklearn-color-fitted-level-0: #f0f8ff;\n",
              "  --sklearn-color-fitted-level-1: #d4ebff;\n",
              "  --sklearn-color-fitted-level-2: #b3dbfd;\n",
              "  --sklearn-color-fitted-level-3: cornflowerblue;\n",
              "\n",
              "  /* Specific color for light theme */\n",
              "  --sklearn-color-text-on-default-background: var(--sg-text-color, var(--theme-code-foreground, var(--jp-content-font-color1, black)));\n",
              "  --sklearn-color-background: var(--sg-background-color, var(--theme-background, var(--jp-layout-color0, white)));\n",
              "  --sklearn-color-border-box: var(--sg-text-color, var(--theme-code-foreground, var(--jp-content-font-color1, black)));\n",
              "  --sklearn-color-icon: #696969;\n",
              "\n",
              "  @media (prefers-color-scheme: dark) {\n",
              "    /* Redefinition of color scheme for dark theme */\n",
              "    --sklearn-color-text-on-default-background: var(--sg-text-color, var(--theme-code-foreground, var(--jp-content-font-color1, white)));\n",
              "    --sklearn-color-background: var(--sg-background-color, var(--theme-background, var(--jp-layout-color0, #111)));\n",
              "    --sklearn-color-border-box: var(--sg-text-color, var(--theme-code-foreground, var(--jp-content-font-color1, white)));\n",
              "    --sklearn-color-icon: #878787;\n",
              "  }\n",
              "}\n",
              "\n",
              "#sk-container-id-1 {\n",
              "  color: var(--sklearn-color-text);\n",
              "}\n",
              "\n",
              "#sk-container-id-1 pre {\n",
              "  padding: 0;\n",
              "}\n",
              "\n",
              "#sk-container-id-1 input.sk-hidden--visually {\n",
              "  border: 0;\n",
              "  clip: rect(1px 1px 1px 1px);\n",
              "  clip: rect(1px, 1px, 1px, 1px);\n",
              "  height: 1px;\n",
              "  margin: -1px;\n",
              "  overflow: hidden;\n",
              "  padding: 0;\n",
              "  position: absolute;\n",
              "  width: 1px;\n",
              "}\n",
              "\n",
              "#sk-container-id-1 div.sk-dashed-wrapped {\n",
              "  border: 1px dashed var(--sklearn-color-line);\n",
              "  margin: 0 0.4em 0.5em 0.4em;\n",
              "  box-sizing: border-box;\n",
              "  padding-bottom: 0.4em;\n",
              "  background-color: var(--sklearn-color-background);\n",
              "}\n",
              "\n",
              "#sk-container-id-1 div.sk-container {\n",
              "  /* jupyter's `normalize.less` sets `[hidden] { display: none; }`\n",
              "     but bootstrap.min.css set `[hidden] { display: none !important; }`\n",
              "     so we also need the `!important` here to be able to override the\n",
              "     default hidden behavior on the sphinx rendered scikit-learn.org.\n",
              "     See: https://github.com/scikit-learn/scikit-learn/issues/21755 */\n",
              "  display: inline-block !important;\n",
              "  position: relative;\n",
              "}\n",
              "\n",
              "#sk-container-id-1 div.sk-text-repr-fallback {\n",
              "  display: none;\n",
              "}\n",
              "\n",
              "div.sk-parallel-item,\n",
              "div.sk-serial,\n",
              "div.sk-item {\n",
              "  /* draw centered vertical line to link estimators */\n",
              "  background-image: linear-gradient(var(--sklearn-color-text-on-default-background), var(--sklearn-color-text-on-default-background));\n",
              "  background-size: 2px 100%;\n",
              "  background-repeat: no-repeat;\n",
              "  background-position: center center;\n",
              "}\n",
              "\n",
              "/* Parallel-specific style estimator block */\n",
              "\n",
              "#sk-container-id-1 div.sk-parallel-item::after {\n",
              "  content: \"\";\n",
              "  width: 100%;\n",
              "  border-bottom: 2px solid var(--sklearn-color-text-on-default-background);\n",
              "  flex-grow: 1;\n",
              "}\n",
              "\n",
              "#sk-container-id-1 div.sk-parallel {\n",
              "  display: flex;\n",
              "  align-items: stretch;\n",
              "  justify-content: center;\n",
              "  background-color: var(--sklearn-color-background);\n",
              "  position: relative;\n",
              "}\n",
              "\n",
              "#sk-container-id-1 div.sk-parallel-item {\n",
              "  display: flex;\n",
              "  flex-direction: column;\n",
              "}\n",
              "\n",
              "#sk-container-id-1 div.sk-parallel-item:first-child::after {\n",
              "  align-self: flex-end;\n",
              "  width: 50%;\n",
              "}\n",
              "\n",
              "#sk-container-id-1 div.sk-parallel-item:last-child::after {\n",
              "  align-self: flex-start;\n",
              "  width: 50%;\n",
              "}\n",
              "\n",
              "#sk-container-id-1 div.sk-parallel-item:only-child::after {\n",
              "  width: 0;\n",
              "}\n",
              "\n",
              "/* Serial-specific style estimator block */\n",
              "\n",
              "#sk-container-id-1 div.sk-serial {\n",
              "  display: flex;\n",
              "  flex-direction: column;\n",
              "  align-items: center;\n",
              "  background-color: var(--sklearn-color-background);\n",
              "  padding-right: 1em;\n",
              "  padding-left: 1em;\n",
              "}\n",
              "\n",
              "\n",
              "/* Toggleable style: style used for estimator/Pipeline/ColumnTransformer box that is\n",
              "clickable and can be expanded/collapsed.\n",
              "- Pipeline and ColumnTransformer use this feature and define the default style\n",
              "- Estimators will overwrite some part of the style using the `sk-estimator` class\n",
              "*/\n",
              "\n",
              "/* Pipeline and ColumnTransformer style (default) */\n",
              "\n",
              "#sk-container-id-1 div.sk-toggleable {\n",
              "  /* Default theme specific background. It is overwritten whether we have a\n",
              "  specific estimator or a Pipeline/ColumnTransformer */\n",
              "  background-color: var(--sklearn-color-background);\n",
              "}\n",
              "\n",
              "/* Toggleable label */\n",
              "#sk-container-id-1 label.sk-toggleable__label {\n",
              "  cursor: pointer;\n",
              "  display: flex;\n",
              "  width: 100%;\n",
              "  margin-bottom: 0;\n",
              "  padding: 0.5em;\n",
              "  box-sizing: border-box;\n",
              "  text-align: center;\n",
              "  align-items: start;\n",
              "  justify-content: space-between;\n",
              "  gap: 0.5em;\n",
              "}\n",
              "\n",
              "#sk-container-id-1 label.sk-toggleable__label .caption {\n",
              "  font-size: 0.6rem;\n",
              "  font-weight: lighter;\n",
              "  color: var(--sklearn-color-text-muted);\n",
              "}\n",
              "\n",
              "#sk-container-id-1 label.sk-toggleable__label-arrow:before {\n",
              "  /* Arrow on the left of the label */\n",
              "  content: \"▸\";\n",
              "  float: left;\n",
              "  margin-right: 0.25em;\n",
              "  color: var(--sklearn-color-icon);\n",
              "}\n",
              "\n",
              "#sk-container-id-1 label.sk-toggleable__label-arrow:hover:before {\n",
              "  color: var(--sklearn-color-text);\n",
              "}\n",
              "\n",
              "/* Toggleable content - dropdown */\n",
              "\n",
              "#sk-container-id-1 div.sk-toggleable__content {\n",
              "  max-height: 0;\n",
              "  max-width: 0;\n",
              "  overflow: hidden;\n",
              "  text-align: left;\n",
              "  /* unfitted */\n",
              "  background-color: var(--sklearn-color-unfitted-level-0);\n",
              "}\n",
              "\n",
              "#sk-container-id-1 div.sk-toggleable__content.fitted {\n",
              "  /* fitted */\n",
              "  background-color: var(--sklearn-color-fitted-level-0);\n",
              "}\n",
              "\n",
              "#sk-container-id-1 div.sk-toggleable__content pre {\n",
              "  margin: 0.2em;\n",
              "  border-radius: 0.25em;\n",
              "  color: var(--sklearn-color-text);\n",
              "  /* unfitted */\n",
              "  background-color: var(--sklearn-color-unfitted-level-0);\n",
              "}\n",
              "\n",
              "#sk-container-id-1 div.sk-toggleable__content.fitted pre {\n",
              "  /* unfitted */\n",
              "  background-color: var(--sklearn-color-fitted-level-0);\n",
              "}\n",
              "\n",
              "#sk-container-id-1 input.sk-toggleable__control:checked~div.sk-toggleable__content {\n",
              "  /* Expand drop-down */\n",
              "  max-height: 200px;\n",
              "  max-width: 100%;\n",
              "  overflow: auto;\n",
              "}\n",
              "\n",
              "#sk-container-id-1 input.sk-toggleable__control:checked~label.sk-toggleable__label-arrow:before {\n",
              "  content: \"▾\";\n",
              "}\n",
              "\n",
              "/* Pipeline/ColumnTransformer-specific style */\n",
              "\n",
              "#sk-container-id-1 div.sk-label input.sk-toggleable__control:checked~label.sk-toggleable__label {\n",
              "  color: var(--sklearn-color-text);\n",
              "  background-color: var(--sklearn-color-unfitted-level-2);\n",
              "}\n",
              "\n",
              "#sk-container-id-1 div.sk-label.fitted input.sk-toggleable__control:checked~label.sk-toggleable__label {\n",
              "  background-color: var(--sklearn-color-fitted-level-2);\n",
              "}\n",
              "\n",
              "/* Estimator-specific style */\n",
              "\n",
              "/* Colorize estimator box */\n",
              "#sk-container-id-1 div.sk-estimator input.sk-toggleable__control:checked~label.sk-toggleable__label {\n",
              "  /* unfitted */\n",
              "  background-color: var(--sklearn-color-unfitted-level-2);\n",
              "}\n",
              "\n",
              "#sk-container-id-1 div.sk-estimator.fitted input.sk-toggleable__control:checked~label.sk-toggleable__label {\n",
              "  /* fitted */\n",
              "  background-color: var(--sklearn-color-fitted-level-2);\n",
              "}\n",
              "\n",
              "#sk-container-id-1 div.sk-label label.sk-toggleable__label,\n",
              "#sk-container-id-1 div.sk-label label {\n",
              "  /* The background is the default theme color */\n",
              "  color: var(--sklearn-color-text-on-default-background);\n",
              "}\n",
              "\n",
              "/* On hover, darken the color of the background */\n",
              "#sk-container-id-1 div.sk-label:hover label.sk-toggleable__label {\n",
              "  color: var(--sklearn-color-text);\n",
              "  background-color: var(--sklearn-color-unfitted-level-2);\n",
              "}\n",
              "\n",
              "/* Label box, darken color on hover, fitted */\n",
              "#sk-container-id-1 div.sk-label.fitted:hover label.sk-toggleable__label.fitted {\n",
              "  color: var(--sklearn-color-text);\n",
              "  background-color: var(--sklearn-color-fitted-level-2);\n",
              "}\n",
              "\n",
              "/* Estimator label */\n",
              "\n",
              "#sk-container-id-1 div.sk-label label {\n",
              "  font-family: monospace;\n",
              "  font-weight: bold;\n",
              "  display: inline-block;\n",
              "  line-height: 1.2em;\n",
              "}\n",
              "\n",
              "#sk-container-id-1 div.sk-label-container {\n",
              "  text-align: center;\n",
              "}\n",
              "\n",
              "/* Estimator-specific */\n",
              "#sk-container-id-1 div.sk-estimator {\n",
              "  font-family: monospace;\n",
              "  border: 1px dotted var(--sklearn-color-border-box);\n",
              "  border-radius: 0.25em;\n",
              "  box-sizing: border-box;\n",
              "  margin-bottom: 0.5em;\n",
              "  /* unfitted */\n",
              "  background-color: var(--sklearn-color-unfitted-level-0);\n",
              "}\n",
              "\n",
              "#sk-container-id-1 div.sk-estimator.fitted {\n",
              "  /* fitted */\n",
              "  background-color: var(--sklearn-color-fitted-level-0);\n",
              "}\n",
              "\n",
              "/* on hover */\n",
              "#sk-container-id-1 div.sk-estimator:hover {\n",
              "  /* unfitted */\n",
              "  background-color: var(--sklearn-color-unfitted-level-2);\n",
              "}\n",
              "\n",
              "#sk-container-id-1 div.sk-estimator.fitted:hover {\n",
              "  /* fitted */\n",
              "  background-color: var(--sklearn-color-fitted-level-2);\n",
              "}\n",
              "\n",
              "/* Specification for estimator info (e.g. \"i\" and \"?\") */\n",
              "\n",
              "/* Common style for \"i\" and \"?\" */\n",
              "\n",
              ".sk-estimator-doc-link,\n",
              "a:link.sk-estimator-doc-link,\n",
              "a:visited.sk-estimator-doc-link {\n",
              "  float: right;\n",
              "  font-size: smaller;\n",
              "  line-height: 1em;\n",
              "  font-family: monospace;\n",
              "  background-color: var(--sklearn-color-background);\n",
              "  border-radius: 1em;\n",
              "  height: 1em;\n",
              "  width: 1em;\n",
              "  text-decoration: none !important;\n",
              "  margin-left: 0.5em;\n",
              "  text-align: center;\n",
              "  /* unfitted */\n",
              "  border: var(--sklearn-color-unfitted-level-1) 1pt solid;\n",
              "  color: var(--sklearn-color-unfitted-level-1);\n",
              "}\n",
              "\n",
              ".sk-estimator-doc-link.fitted,\n",
              "a:link.sk-estimator-doc-link.fitted,\n",
              "a:visited.sk-estimator-doc-link.fitted {\n",
              "  /* fitted */\n",
              "  border: var(--sklearn-color-fitted-level-1) 1pt solid;\n",
              "  color: var(--sklearn-color-fitted-level-1);\n",
              "}\n",
              "\n",
              "/* On hover */\n",
              "div.sk-estimator:hover .sk-estimator-doc-link:hover,\n",
              ".sk-estimator-doc-link:hover,\n",
              "div.sk-label-container:hover .sk-estimator-doc-link:hover,\n",
              ".sk-estimator-doc-link:hover {\n",
              "  /* unfitted */\n",
              "  background-color: var(--sklearn-color-unfitted-level-3);\n",
              "  color: var(--sklearn-color-background);\n",
              "  text-decoration: none;\n",
              "}\n",
              "\n",
              "div.sk-estimator.fitted:hover .sk-estimator-doc-link.fitted:hover,\n",
              ".sk-estimator-doc-link.fitted:hover,\n",
              "div.sk-label-container:hover .sk-estimator-doc-link.fitted:hover,\n",
              ".sk-estimator-doc-link.fitted:hover {\n",
              "  /* fitted */\n",
              "  background-color: var(--sklearn-color-fitted-level-3);\n",
              "  color: var(--sklearn-color-background);\n",
              "  text-decoration: none;\n",
              "}\n",
              "\n",
              "/* Span, style for the box shown on hovering the info icon */\n",
              ".sk-estimator-doc-link span {\n",
              "  display: none;\n",
              "  z-index: 9999;\n",
              "  position: relative;\n",
              "  font-weight: normal;\n",
              "  right: .2ex;\n",
              "  padding: .5ex;\n",
              "  margin: .5ex;\n",
              "  width: min-content;\n",
              "  min-width: 20ex;\n",
              "  max-width: 50ex;\n",
              "  color: var(--sklearn-color-text);\n",
              "  box-shadow: 2pt 2pt 4pt #999;\n",
              "  /* unfitted */\n",
              "  background: var(--sklearn-color-unfitted-level-0);\n",
              "  border: .5pt solid var(--sklearn-color-unfitted-level-3);\n",
              "}\n",
              "\n",
              ".sk-estimator-doc-link.fitted span {\n",
              "  /* fitted */\n",
              "  background: var(--sklearn-color-fitted-level-0);\n",
              "  border: var(--sklearn-color-fitted-level-3);\n",
              "}\n",
              "\n",
              ".sk-estimator-doc-link:hover span {\n",
              "  display: block;\n",
              "}\n",
              "\n",
              "/* \"?\"-specific style due to the `<a>` HTML tag */\n",
              "\n",
              "#sk-container-id-1 a.estimator_doc_link {\n",
              "  float: right;\n",
              "  font-size: 1rem;\n",
              "  line-height: 1em;\n",
              "  font-family: monospace;\n",
              "  background-color: var(--sklearn-color-background);\n",
              "  border-radius: 1rem;\n",
              "  height: 1rem;\n",
              "  width: 1rem;\n",
              "  text-decoration: none;\n",
              "  /* unfitted */\n",
              "  color: var(--sklearn-color-unfitted-level-1);\n",
              "  border: var(--sklearn-color-unfitted-level-1) 1pt solid;\n",
              "}\n",
              "\n",
              "#sk-container-id-1 a.estimator_doc_link.fitted {\n",
              "  /* fitted */\n",
              "  border: var(--sklearn-color-fitted-level-1) 1pt solid;\n",
              "  color: var(--sklearn-color-fitted-level-1);\n",
              "}\n",
              "\n",
              "/* On hover */\n",
              "#sk-container-id-1 a.estimator_doc_link:hover {\n",
              "  /* unfitted */\n",
              "  background-color: var(--sklearn-color-unfitted-level-3);\n",
              "  color: var(--sklearn-color-background);\n",
              "  text-decoration: none;\n",
              "}\n",
              "\n",
              "#sk-container-id-1 a.estimator_doc_link.fitted:hover {\n",
              "  /* fitted */\n",
              "  background-color: var(--sklearn-color-fitted-level-3);\n",
              "}\n",
              "</style><div id=\"sk-container-id-1\" class=\"sk-top-container\"><div class=\"sk-text-repr-fallback\"><pre>GdAnfisRegressor(batch_size=8, device=&#x27;cpu&#x27;, early_stopping=False, epochs=100,\n",
              "                 mf_class=&#x27;Trapezoidal&#x27;, num_rules=20, optim=&#x27;Adafactor&#x27;,\n",
              "                 optim_params={&#x27;lr&#x27;: 0.01}, reg_lambda=0.0,\n",
              "                 vanishing_strategy=&#x27;blend&#x27;)</pre><b>In a Jupyter environment, please rerun this cell to show the HTML representation or trust the notebook. <br />On GitHub, the HTML representation is unable to render, please try loading this page with nbviewer.org.</b></div><div class=\"sk-container\" hidden><div class=\"sk-item\"><div class=\"sk-estimator  sk-toggleable\"><input class=\"sk-toggleable__control sk-hidden--visually\" id=\"sk-estimator-id-1\" type=\"checkbox\" checked><label for=\"sk-estimator-id-1\" class=\"sk-toggleable__label  sk-toggleable__label-arrow\"><div><div>GdAnfisRegressor</div></div><div><span class=\"sk-estimator-doc-link \">i<span>Not fitted</span></span></div></label><div class=\"sk-toggleable__content \"><pre>GdAnfisRegressor(batch_size=8, device=&#x27;cpu&#x27;, early_stopping=False, epochs=100,\n",
              "                 mf_class=&#x27;Trapezoidal&#x27;, num_rules=20, optim=&#x27;Adafactor&#x27;,\n",
              "                 optim_params={&#x27;lr&#x27;: 0.01}, reg_lambda=0.0,\n",
              "                 vanishing_strategy=&#x27;blend&#x27;)</pre></div> </div></div></div></div>"
            ]
          },
          "metadata": {},
          "execution_count": 14
        }
      ],
      "source": [
        "model = GdAnfisRegressor(num_rules=20, mf_class=\"Trapezoidal\",\n",
        "                          act_output=None, vanishing_strategy=\"blend\", reg_lambda=None,\n",
        "                          epochs=100, batch_size=8, optim=\"Adafactor\", optim_params={\"lr\": 0.01},\n",
        "                          early_stopping=False, n_patience=10, epsilon=0.001, valid_rate=0.1,\n",
        "                          seed=42, verbose=True)\n",
        "## Train the model\n",
        "model.fit(X_train.values,Y_train.values)"
      ]
    },
    {
      "cell_type": "code",
      "execution_count": 15,
      "metadata": {
        "id": "jPYypBjgeEGT",
        "colab": {
          "base_uri": "https://localhost:8080/"
        },
        "outputId": "0fb2c1cb-9d7c-413d-a740-31bcf9de3941"
      },
      "outputs": [
        {
          "output_type": "execute_result",
          "data": {
            "text/plain": [
              "1.527964957266906"
            ]
          },
          "metadata": {},
          "execution_count": 15
        }
      ],
      "source": [
        "model_pred = model.predict(X_test.values)\n",
        "import sklearn\n",
        "import math\n",
        "mse = sklearn.metrics.mean_squared_error(Y_test.values,model_pred)\n",
        "rmse = math.sqrt(mse)\n",
        "rmse\n"
      ]
    },
    {
      "cell_type": "code",
      "execution_count": 16,
      "metadata": {
        "id": "dcaSwLyEP4Cg"
      },
      "outputs": [],
      "source": [
        "# Random Forest\n",
        "from sklearn.ensemble import RandomForestRegressor\n",
        "from sklearn.metrics import r2_score\n",
        "\n",
        "rf = RandomForestRegressor(\n",
        "    n_estimators=100,\n",
        "    criterion='squared_error',\n",
        "    max_depth=None,\n",
        "    min_samples_split=2,\n",
        "    min_samples_leaf=1,\n",
        "    min_weight_fraction_leaf=0.0,\n",
        "    max_features='sqrt',\n",
        "    max_leaf_nodes=None,\n",
        "    min_impurity_decrease=0.0,\n",
        "    bootstrap=True,\n",
        "    oob_score=False,\n",
        "    n_jobs=-1,\n",
        "    random_state=1,\n",
        "    verbose=0,\n",
        "    warm_start=False,\n",
        "    ccp_alpha=0.0,\n",
        "    max_samples=None,\n",
        "    monotonic_cst=None,\n",
        "    )\n",
        "\n",
        "rf.fit(X_train, Y_train)\n",
        "rf_pred = rf.predict(X_test)"
      ]
    },
    {
      "cell_type": "code",
      "execution_count": 17,
      "metadata": {
        "id": "xGtflJb9uwua",
        "colab": {
          "base_uri": "https://localhost:8080/"
        },
        "outputId": "f6f75ac9-1518-45c0-b453-362fdcefacc5"
      },
      "outputs": [
        {
          "output_type": "execute_result",
          "data": {
            "text/plain": [
              "1.3029730467772411"
            ]
          },
          "metadata": {},
          "execution_count": 17
        }
      ],
      "source": [
        "import sklearn\n",
        "import math\n",
        "mse = sklearn.metrics.mean_squared_error(Y_test,rf_pred)\n",
        "rmse = math.sqrt(mse)\n",
        "rmse"
      ]
    },
    {
      "cell_type": "code",
      "execution_count": 18,
      "metadata": {
        "id": "3ViiXu1lyn_H"
      },
      "outputs": [],
      "source": [
        "import xgboost\n",
        "\n",
        "xgboost_model = xgboost.XGBRegressor(n_estimators=200, learning_rate=0.05, gamma=1, subsample=0.75,\n",
        "                           colsample_bytree=0.7, max_depth=5)\n",
        "xg=xgboost_model.fit(X_train,Y_train)\n",
        "y_pred=xg.predict(X_test)"
      ]
    },
    {
      "cell_type": "code",
      "execution_count": 19,
      "metadata": {
        "id": "w0ImKGjEyxgU",
        "colab": {
          "base_uri": "https://localhost:8080/"
        },
        "outputId": "d2554373-e80d-40e6-e3b7-0c1288e5fdc7"
      },
      "outputs": [
        {
          "output_type": "execute_result",
          "data": {
            "text/plain": [
              "1.2011453370583445"
            ]
          },
          "metadata": {},
          "execution_count": 19
        }
      ],
      "source": [
        "import sklearn\n",
        "import math\n",
        "mse = sklearn.metrics.mean_squared_error(Y_test,y_pred)\n",
        "rmse = math.sqrt(mse)\n",
        "rmse"
      ]
    },
    {
      "cell_type": "code",
      "execution_count": 20,
      "metadata": {
        "id": "_AxImCVFNCgt"
      },
      "outputs": [],
      "source": [
        "# Linear Regression\n",
        "from sklearn.linear_model import LinearRegression\n",
        "from sklearn.metrics import r2_score\n",
        "\n",
        "lr = LinearRegression(fit_intercept=True, copy_X=True, n_jobs=None, positive=False)\n",
        "lr.fit(X_train, Y_train)\n",
        "lr_pred = lr.predict(X_test)"
      ]
    },
    {
      "cell_type": "code",
      "source": [
        "import sklearn\n",
        "import math\n",
        "mse = sklearn.metrics.mean_squared_error(Y_test,lr_pred)\n",
        "rmse = math.sqrt(mse)\n",
        "rmse"
      ],
      "metadata": {
        "colab": {
          "base_uri": "https://localhost:8080/"
        },
        "id": "kWRkvbb3sDpI",
        "outputId": "aacf9185-3540-49f3-ba0e-42767b8d677c"
      },
      "execution_count": 21,
      "outputs": [
        {
          "output_type": "execute_result",
          "data": {
            "text/plain": [
              "2.2248240982943353"
            ]
          },
          "metadata": {},
          "execution_count": 21
        }
      ]
    },
    {
      "cell_type": "code",
      "execution_count": 22,
      "metadata": {
        "id": "V6cnOTAwZwTf",
        "colab": {
          "base_uri": "https://localhost:8080/"
        },
        "outputId": "84e86298-c837-4b4e-e5ec-3ff5fdf974e9"
      },
      "outputs": [
        {
          "output_type": "stream",
          "name": "stdout",
          "text": [
            "Requirement already satisfied: xanfis in /usr/local/lib/python3.12/dist-packages (1.1.0)\n",
            "Requirement already satisfied: numpy<=1.26.0,>=1.17.1 in /usr/local/lib/python3.12/dist-packages (from xanfis) (1.26.0)\n",
            "Requirement already satisfied: scipy>=1.7.1 in /usr/local/lib/python3.12/dist-packages (from xanfis) (1.16.1)\n",
            "Requirement already satisfied: scikit-learn>=1.2.1 in /usr/local/lib/python3.12/dist-packages (from xanfis) (1.6.1)\n",
            "Requirement already satisfied: pandas<2.2,>=1.3.5 in /usr/local/lib/python3.12/dist-packages (from xanfis) (2.1.4)\n",
            "Requirement already satisfied: mealpy>=3.0.2 in /usr/local/lib/python3.12/dist-packages (from xanfis) (3.0.3)\n",
            "Requirement already satisfied: permetrics>=2.0.0 in /usr/local/lib/python3.12/dist-packages (from xanfis) (2.0.0)\n",
            "Requirement already satisfied: torch>=2.0.0 in /usr/local/lib/python3.12/dist-packages (from xanfis) (2.8.0+cu126)\n",
            "Requirement already satisfied: matplotlib>=3.1.3 in /usr/local/lib/python3.12/dist-packages (from mealpy>=3.0.2->xanfis) (3.10.0)\n",
            "Requirement already satisfied: opfunu>=1.0.0 in /usr/local/lib/python3.12/dist-packages (from mealpy>=3.0.2->xanfis) (1.0.1)\n",
            "Requirement already satisfied: python-dateutil>=2.8.2 in /usr/local/lib/python3.12/dist-packages (from pandas<2.2,>=1.3.5->xanfis) (2.9.0.post0)\n",
            "Requirement already satisfied: pytz>=2020.1 in /usr/local/lib/python3.12/dist-packages (from pandas<2.2,>=1.3.5->xanfis) (2025.2)\n",
            "Requirement already satisfied: tzdata>=2022.1 in /usr/local/lib/python3.12/dist-packages (from pandas<2.2,>=1.3.5->xanfis) (2025.2)\n",
            "Requirement already satisfied: joblib>=1.2.0 in /usr/local/lib/python3.12/dist-packages (from scikit-learn>=1.2.1->xanfis) (1.5.1)\n",
            "Requirement already satisfied: threadpoolctl>=3.1.0 in /usr/local/lib/python3.12/dist-packages (from scikit-learn>=1.2.1->xanfis) (3.6.0)\n",
            "Requirement already satisfied: filelock in /usr/local/lib/python3.12/dist-packages (from torch>=2.0.0->xanfis) (3.19.1)\n",
            "Requirement already satisfied: typing-extensions>=4.10.0 in /usr/local/lib/python3.12/dist-packages (from torch>=2.0.0->xanfis) (4.14.1)\n",
            "Requirement already satisfied: setuptools in /usr/local/lib/python3.12/dist-packages (from torch>=2.0.0->xanfis) (75.2.0)\n",
            "Requirement already satisfied: sympy>=1.13.3 in /usr/local/lib/python3.12/dist-packages (from torch>=2.0.0->xanfis) (1.13.3)\n",
            "Requirement already satisfied: networkx in /usr/local/lib/python3.12/dist-packages (from torch>=2.0.0->xanfis) (3.5)\n",
            "Requirement already satisfied: jinja2 in /usr/local/lib/python3.12/dist-packages (from torch>=2.0.0->xanfis) (3.1.6)\n",
            "Requirement already satisfied: fsspec in /usr/local/lib/python3.12/dist-packages (from torch>=2.0.0->xanfis) (2025.3.0)\n",
            "Requirement already satisfied: nvidia-cuda-nvrtc-cu12==12.6.77 in /usr/local/lib/python3.12/dist-packages (from torch>=2.0.0->xanfis) (12.6.77)\n",
            "Requirement already satisfied: nvidia-cuda-runtime-cu12==12.6.77 in /usr/local/lib/python3.12/dist-packages (from torch>=2.0.0->xanfis) (12.6.77)\n",
            "Requirement already satisfied: nvidia-cuda-cupti-cu12==12.6.80 in /usr/local/lib/python3.12/dist-packages (from torch>=2.0.0->xanfis) (12.6.80)\n",
            "Requirement already satisfied: nvidia-cudnn-cu12==9.10.2.21 in /usr/local/lib/python3.12/dist-packages (from torch>=2.0.0->xanfis) (9.10.2.21)\n",
            "Requirement already satisfied: nvidia-cublas-cu12==12.6.4.1 in /usr/local/lib/python3.12/dist-packages (from torch>=2.0.0->xanfis) (12.6.4.1)\n",
            "Requirement already satisfied: nvidia-cufft-cu12==11.3.0.4 in /usr/local/lib/python3.12/dist-packages (from torch>=2.0.0->xanfis) (11.3.0.4)\n",
            "Requirement already satisfied: nvidia-curand-cu12==10.3.7.77 in /usr/local/lib/python3.12/dist-packages (from torch>=2.0.0->xanfis) (10.3.7.77)\n",
            "Requirement already satisfied: nvidia-cusolver-cu12==11.7.1.2 in /usr/local/lib/python3.12/dist-packages (from torch>=2.0.0->xanfis) (11.7.1.2)\n",
            "Requirement already satisfied: nvidia-cusparse-cu12==12.5.4.2 in /usr/local/lib/python3.12/dist-packages (from torch>=2.0.0->xanfis) (12.5.4.2)\n",
            "Requirement already satisfied: nvidia-cusparselt-cu12==0.7.1 in /usr/local/lib/python3.12/dist-packages (from torch>=2.0.0->xanfis) (0.7.1)\n",
            "Requirement already satisfied: nvidia-nccl-cu12==2.27.3 in /usr/local/lib/python3.12/dist-packages (from torch>=2.0.0->xanfis) (2.27.3)\n",
            "Requirement already satisfied: nvidia-nvtx-cu12==12.6.77 in /usr/local/lib/python3.12/dist-packages (from torch>=2.0.0->xanfis) (12.6.77)\n",
            "Requirement already satisfied: nvidia-nvjitlink-cu12==12.6.85 in /usr/local/lib/python3.12/dist-packages (from torch>=2.0.0->xanfis) (12.6.85)\n",
            "Requirement already satisfied: nvidia-cufile-cu12==1.11.1.6 in /usr/local/lib/python3.12/dist-packages (from torch>=2.0.0->xanfis) (1.11.1.6)\n",
            "Requirement already satisfied: triton==3.4.0 in /usr/local/lib/python3.12/dist-packages (from torch>=2.0.0->xanfis) (3.4.0)\n",
            "Requirement already satisfied: contourpy>=1.0.1 in /usr/local/lib/python3.12/dist-packages (from matplotlib>=3.1.3->mealpy>=3.0.2->xanfis) (1.3.3)\n",
            "Requirement already satisfied: cycler>=0.10 in /usr/local/lib/python3.12/dist-packages (from matplotlib>=3.1.3->mealpy>=3.0.2->xanfis) (0.12.1)\n",
            "Requirement already satisfied: fonttools>=4.22.0 in /usr/local/lib/python3.12/dist-packages (from matplotlib>=3.1.3->mealpy>=3.0.2->xanfis) (4.59.1)\n",
            "Requirement already satisfied: kiwisolver>=1.3.1 in /usr/local/lib/python3.12/dist-packages (from matplotlib>=3.1.3->mealpy>=3.0.2->xanfis) (1.4.9)\n",
            "Requirement already satisfied: packaging>=20.0 in /usr/local/lib/python3.12/dist-packages (from matplotlib>=3.1.3->mealpy>=3.0.2->xanfis) (25.0)\n",
            "Requirement already satisfied: pillow>=8 in /usr/local/lib/python3.12/dist-packages (from matplotlib>=3.1.3->mealpy>=3.0.2->xanfis) (11.3.0)\n",
            "Requirement already satisfied: pyparsing>=2.3.1 in /usr/local/lib/python3.12/dist-packages (from matplotlib>=3.1.3->mealpy>=3.0.2->xanfis) (3.2.3)\n",
            "Requirement already satisfied: requests>=2.27.0 in /usr/local/lib/python3.12/dist-packages (from opfunu>=1.0.0->mealpy>=3.0.2->xanfis) (2.32.4)\n",
            "Requirement already satisfied: six>=1.5 in /usr/local/lib/python3.12/dist-packages (from python-dateutil>=2.8.2->pandas<2.2,>=1.3.5->xanfis) (1.17.0)\n",
            "Requirement already satisfied: mpmath<1.4,>=1.1.0 in /usr/local/lib/python3.12/dist-packages (from sympy>=1.13.3->torch>=2.0.0->xanfis) (1.3.0)\n",
            "Requirement already satisfied: MarkupSafe>=2.0 in /usr/local/lib/python3.12/dist-packages (from jinja2->torch>=2.0.0->xanfis) (3.0.2)\n",
            "Requirement already satisfied: charset_normalizer<4,>=2 in /usr/local/lib/python3.12/dist-packages (from requests>=2.27.0->opfunu>=1.0.0->mealpy>=3.0.2->xanfis) (3.4.3)\n",
            "Requirement already satisfied: idna<4,>=2.5 in /usr/local/lib/python3.12/dist-packages (from requests>=2.27.0->opfunu>=1.0.0->mealpy>=3.0.2->xanfis) (3.10)\n",
            "Requirement already satisfied: urllib3<3,>=1.21.1 in /usr/local/lib/python3.12/dist-packages (from requests>=2.27.0->opfunu>=1.0.0->mealpy>=3.0.2->xanfis) (2.5.0)\n",
            "Requirement already satisfied: certifi>=2017.4.17 in /usr/local/lib/python3.12/dist-packages (from requests>=2.27.0->opfunu>=1.0.0->mealpy>=3.0.2->xanfis) (2025.8.3)\n"
          ]
        }
      ],
      "source": [
        "!pip install xanfis"
      ]
    },
    {
      "cell_type": "markdown",
      "metadata": {
        "id": "KL-9fRnoPggc"
      },
      "source": [
        "Work on reducing the rmse value aswell"
      ]
    },
    {
      "cell_type": "markdown",
      "metadata": {
        "id": "8k-xrohn3Dkb"
      },
      "source": [
        "First try to handle the missing values then understanding and working on the FuzzyLogic model"
      ]
    }
  ],
  "metadata": {
    "colab": {
      "provenance": []
    },
    "kernelspec": {
      "display_name": "Python 3",
      "name": "python3"
    },
    "language_info": {
      "name": "python"
    }
  },
  "nbformat": 4,
  "nbformat_minor": 0
}